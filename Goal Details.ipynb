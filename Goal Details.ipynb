{
 "cells": [
  {
   "cell_type": "code",
   "execution_count": 1,
   "id": "46fc4597",
   "metadata": {},
   "outputs": [
    {
     "name": "stdout",
     "output_type": "stream",
     "text": [
      "Turns: 11\n",
      "Traversal Distance: 66\n",
      "Turn Directions: ['Right', 'Left', 'Left', 'Right', 'Right', 'Left', 'Right', 'Left', 'Right', 'Left', 'Right']\n"
     ]
    }
   ],
   "source": [
    "def count_turns_distance_and_direction(path):\n",
    "    turns = 0\n",
    "    distance = 0\n",
    "    directions = []\n",
    "\n",
    "    for i in range(1, len(path) - 1):\n",
    "        current_point = path[i - 1]\n",
    "        current_direction = (path[i][0] - current_point[0], path[i][1] - current_point[1])\n",
    "\n",
    "        next_point = path[i + 1]\n",
    "        next_direction = (next_point[0] - path[i][0], next_point[1] - path[i][1])\n",
    "\n",
    "        # Check if the direction changes\n",
    "        if current_direction != next_direction:\n",
    "            turns += 1\n",
    "            # Determine left or right turn\n",
    "            cross_product = current_direction[0] * next_direction[1] - next_direction[0] * current_direction[1]\n",
    "            direction = 'Left' if cross_product > 0 else 'Right'\n",
    "            directions.append(direction)\n",
    "\n",
    "        # Calculate Manhattan distance\n",
    "        distance += abs(next_point[0] - current_point[0]) + abs(next_point[1] - current_point[1])\n",
    "\n",
    "    return turns, distance, directions\n",
    "\n",
    "# Given path\n",
    "given_path = [(0, 0), (0, 1), (1, 1), (2, 1), (3, 1), (4, 1), (4, 2), (4, 3), (3, 3), (2, 3), (1, 3), (1, 4), (1, 5), (2, 5), (3, 5), (3, 6), (3, 7), (3, 8), (3, 9), (3, 10), (3, 11), (3, 12), (3, 13), (3, 14), (3, 15), (3, 16), (4, 16), (5, 16), (5, 17), (5, 18), (6, 18), (7, 18), (8, 18), (8, 19), (9, 19)]\n",
    "\n",
    "# Calculate turns, distance, and directions for the given path\n",
    "turns, distance, directions = count_turns_distance_and_direction(given_path)\n",
    "\n",
    "print(\"Turns:\", turns)\n",
    "print(\"Traversal Distance:\", distance)\n",
    "print(\"Turn Directions:\", directions)\n"
   ]
  },
  {
   "cell_type": "code",
   "execution_count": 2,
   "id": "d71c8c72",
   "metadata": {},
   "outputs": [
    {
     "name": "stdout",
     "output_type": "stream",
     "text": [
      "Turns: 13\n",
      "Traversal Distance: 58\n",
      "Turn Directions: ['Right', 'Left', 'Right', 'Left', 'Right', 'Left', 'Right', 'Left', 'Right', 'Left', 'Left', 'Right', 'Right']\n"
     ]
    }
   ],
   "source": [
    "def count_turns_distance_and_direction(path):\n",
    "    turns = 0\n",
    "    distance = 0\n",
    "    directions = []\n",
    "\n",
    "    for i in range(1, len(path) - 1):\n",
    "        current_point = path[i - 1]\n",
    "        current_direction = (path[i][0] - current_point[0], path[i][1] - current_point[1])\n",
    "\n",
    "        next_point = path[i + 1]\n",
    "        next_direction = (next_point[0] - path[i][0], next_point[1] - path[i][1])\n",
    "\n",
    "        # Check if the direction changes\n",
    "        if current_direction != next_direction:\n",
    "            turns += 1\n",
    "            # Determine left or right turn\n",
    "            cross_product = current_direction[0] * next_direction[1] - next_direction[0] * current_direction[1]\n",
    "            direction = 'Left' if cross_product > 0 else 'Right'\n",
    "            directions.append(direction)\n",
    "\n",
    "        # Calculate Manhattan distance\n",
    "        distance += abs(next_point[0] - current_point[0]) + abs(next_point[1] - current_point[1])\n",
    "\n",
    "    return turns, distance, directions\n",
    "\n",
    "# Given path\n",
    "given_path = [(0, 0), (0, 1), (0, 2), (0, 3), (0, 4), (0, 5), (0, 6), (0, 7), (1, 7), (2, 7), (2, 8), (2, 9), (3, 9), (3, 10), (3, 11), (3, 12), (4, 12), (5, 12), (5, 13), (6, 13), (7, 13), (7, 14), (7, 15), (8, 15), (8, 16), (8, 17), (7, 17), (7, 18), (7, 19), (8, 19), (9, 19)]\n",
    "\n",
    "# Calculate turns, distance, and directions for the given path\n",
    "turns, distance, directions = count_turns_distance_and_direction(given_path)\n",
    "\n",
    "print(\"Turns:\", turns)\n",
    "print(\"Traversal Distance:\", distance)\n",
    "print(\"Turn Directions:\", directions)\n"
   ]
  },
  {
   "cell_type": "code",
   "execution_count": 3,
   "id": "3f4597d5",
   "metadata": {},
   "outputs": [
    {
     "name": "stdout",
     "output_type": "stream",
     "text": [
      "Turns: 11\n",
      "Traversal Distance: 54\n",
      "Turn Directions: ['Right', 'Left', 'Right', 'Left', 'Right', 'Left', 'Right', 'Left', 'Right', 'Left', 'Right']\n"
     ]
    }
   ],
   "source": [
    "# Given path\n",
    "given_path = [(0, 0), (0, 1), (0, 2), (0, 3), (0, 4), (0, 5), (1, 5), (1, 6), (1, 7), (2, 7), (2, 8), (2, 9), (2, 10), (2, 11), (3, 11), (3, 12), (3, 13), (3, 14), (3, 15), (4, 15), (5, 15), (5, 16), (6, 16), (7, 16), (8, 16), (8, 17), (8, 18), (8, 19), (9, 19)]\n",
    "\n",
    "def count_turns_distance_and_direction(path):\n",
    "    turns = 0\n",
    "    distance = 0\n",
    "    directions = []\n",
    "\n",
    "    for i in range(1, len(path) - 1):\n",
    "        current_point = path[i - 1]\n",
    "        current_direction = (path[i][0] - current_point[0], path[i][1] - current_point[1])\n",
    "\n",
    "        next_point = path[i + 1]\n",
    "        next_direction = (next_point[0] - path[i][0], next_point[1] - path[i][1])\n",
    "\n",
    "        # Check if the direction changes\n",
    "        if current_direction != next_direction:\n",
    "            turns += 1\n",
    "            # Determine left or right turn\n",
    "            cross_product = current_direction[0] * next_direction[1] - next_direction[0] * current_direction[1]\n",
    "            direction = 'Left' if cross_product > 0 else 'Right'\n",
    "            directions.append(direction)\n",
    "\n",
    "        # Calculate Manhattan distance\n",
    "        distance += abs(next_point[0] - current_point[0]) + abs(next_point[1] - current_point[1])\n",
    "\n",
    "    return turns, distance, directions\n",
    "\n",
    "# Calculate turns, distance, and directions for the given path\n",
    "turns, distance, directions = count_turns_distance_and_direction(given_path)\n",
    "\n",
    "print(\"Turns:\", turns)\n",
    "print(\"Traversal Distance:\", distance)\n",
    "print(\"Turn Directions:\", directions)\n"
   ]
  },
  {
   "cell_type": "code",
   "execution_count": 4,
   "id": "df29f1ec",
   "metadata": {},
   "outputs": [
    {
     "name": "stdout",
     "output_type": "stream",
     "text": [
      "Turns: 14\n",
      "Traversal Distance: 58\n",
      "Turn Directions: ['Right', 'Left', 'Right', 'Left', 'Right', 'Left', 'Right', 'Left', 'Left', 'Right', 'Right', 'Left', 'Right', 'Left']\n"
     ]
    }
   ],
   "source": [
    "# Given path\n",
    "given_path = [(0, 0), (0, 1), (0, 2), (1, 2), (2, 2), (2, 3), (3, 3), (3, 4), (4, 4), (5, 4), (6, 4), (7, 4), (7, 5), (7, 6), (7, 7), (7, 8), (7, 9), (8, 9), (8, 10), (8, 11), (8, 12), (8, 13), (8, 14), (7, 14), (7, 15), (7, 16), (8, 16), (8, 17), (9, 17), (9, 18), (9, 19)]\n",
    "\n",
    "def count_turns_distance_and_direction(path):\n",
    "    turns = 0\n",
    "    distance = 0\n",
    "    directions = []\n",
    "\n",
    "    for i in range(1, len(path) - 1):\n",
    "        current_point = path[i - 1]\n",
    "        current_direction = (path[i][0] - current_point[0], path[i][1] - current_point[1])\n",
    "\n",
    "        next_point = path[i + 1]\n",
    "        next_direction = (next_point[0] - path[i][0], next_point[1] - path[i][1])\n",
    "\n",
    "        # Check if the direction changes\n",
    "        if current_direction != next_direction:\n",
    "            turns += 1\n",
    "            # Determine left or right turn\n",
    "            cross_product = current_direction[0] * next_direction[1] - next_direction[0] * current_direction[1]\n",
    "            direction = 'Left' if cross_product > 0 else 'Right'\n",
    "            directions.append(direction)\n",
    "\n",
    "        # Calculate Manhattan distance\n",
    "        distance += abs(next_point[0] - current_point[0]) + abs(next_point[1] - current_point[1])\n",
    "\n",
    "    return turns, distance, directions\n",
    "\n",
    "# Calculate turns, distance, and directions for the given path\n",
    "turns, distance, directions = count_turns_distance_and_direction(given_path)\n",
    "\n",
    "print(\"Turns:\", turns)\n",
    "print(\"Traversal Distance:\", distance)\n",
    "print(\"Turn Directions:\", directions)\n"
   ]
  },
  {
   "cell_type": "code",
   "execution_count": null,
   "id": "b593d9b8",
   "metadata": {},
   "outputs": [],
   "source": []
  }
 ],
 "metadata": {
  "kernelspec": {
   "display_name": "Python 3 (ipykernel)",
   "language": "python",
   "name": "python3"
  },
  "language_info": {
   "codemirror_mode": {
    "name": "ipython",
    "version": 3
   },
   "file_extension": ".py",
   "mimetype": "text/x-python",
   "name": "python",
   "nbconvert_exporter": "python",
   "pygments_lexer": "ipython3",
   "version": "3.9.12"
  }
 },
 "nbformat": 4,
 "nbformat_minor": 5
}
